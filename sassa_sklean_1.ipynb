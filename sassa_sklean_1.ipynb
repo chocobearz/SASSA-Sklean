{
  "nbformat": 4,
  "nbformat_minor": 0,
  "metadata": {
    "colab": {
      "name": "sassa-sklean-1.ipynb",
      "provenance": [],
      "collapsed_sections": [],
      "authorship_tag": "ABX9TyNk4lr4PITeh2BBKIDCBnhC",
      "include_colab_link": true
    },
    "kernelspec": {
      "name": "python3",
      "display_name": "Python 3"
    }
  },
  "cells": [
    {
      "cell_type": "markdown",
      "metadata": {
        "id": "view-in-github",
        "colab_type": "text"
      },
      "source": [
        "<a href=\"https://colab.research.google.com/github/chocobearz/SASSA-Sklean/blob/main/sassa_sklean_1.ipynb\" target=\"_parent\"><img src=\"https://colab.research.google.com/assets/colab-badge.svg\" alt=\"Open In Colab\"/></a>"
      ]
    },
    {
      "cell_type": "markdown",
      "metadata": {
        "id": "AmyjgZhw9rl-"
      },
      "source": [
        "# In this workshop we will use the sklearn library to implement some of the major algorithms used for regression and touch on hyperparameter tuning. \n"
      ]
    },
    {
      "cell_type": "markdown",
      "metadata": {
        "id": "aLIi_J-E-bbH"
      },
      "source": [
        "We will cover the following types of regression:\n",
        "\n",
        "* Simple Linear Regression\n",
        "* Nearest Neighbour Regression\n",
        "* Support Vector Regression (SVR)\n",
        "\n",
        "Pre reqs include basic knowledge of\n",
        "* `pandas`\n",
        "* `numpy`\n",
        "\n"
      ]
    },
    {
      "cell_type": "markdown",
      "metadata": {
        "id": "5-Cp5PJw_GZQ"
      },
      "source": [
        "Environment set up"
      ]
    },
    {
      "cell_type": "code",
      "metadata": {
        "id": "gR_wv_gn_KbQ"
      },
      "source": [
        "# Global Imports\n",
        "import numpy as np   # linear algebra\n",
        "import pandas as pd\n",
        "import matplotlib.pyplot as plt   # plotting\n",
        "from sklearn.model_selection import train_test_split  # ML data splits\n",
        "from sklearn.preprocessing import LabelEncoder, OneHotEncoder, StandardScaler # ML preprocessing"
      ],
      "execution_count": null,
      "outputs": []
    },
    {
      "cell_type": "markdown",
      "metadata": {
        "id": "hfp2-U8gA6DR"
      },
      "source": [
        "Follow the same steps for each type of regression:\n",
        "\n",
        "\n",
        "1.   import algorithm from sklean\n",
        "2.   select independent and dependent variables\n",
        "3.   split data into test, train, and validation set\n",
        "4.   train model\n",
        "5.   adjust model based on vaidtion set\n",
        "6.   evaluate the model on the test set\n",
        "\n"
      ]
    },
    {
      "cell_type": "markdown",
      "metadata": {
        "id": "wMixHKz7K2VI"
      },
      "source": [
        "We are using a salary dataset that contains employee's years of experince and their salary"
      ]
    },
    {
      "cell_type": "code",
      "metadata": {
        "colab": {
          "base_uri": "https://localhost:8080/",
          "height": 195
        },
        "id": "GP2J2DLgLCvY",
        "outputId": "c86c86a3-961f-4933-e19d-a90fc14a4038"
      },
      "source": [
        "dataset = pd.read_csv('https://raw.githubusercontent.com/mesushan/Salary-Prediciton-based-on-Years-of-Experience/master/Salary_Data.csv', encoding='latin')\n",
        "dataset.head()"
      ],
      "execution_count": null,
      "outputs": [
        {
          "output_type": "execute_result",
          "data": {
            "text/html": [
              "<div>\n",
              "<style scoped>\n",
              "    .dataframe tbody tr th:only-of-type {\n",
              "        vertical-align: middle;\n",
              "    }\n",
              "\n",
              "    .dataframe tbody tr th {\n",
              "        vertical-align: top;\n",
              "    }\n",
              "\n",
              "    .dataframe thead th {\n",
              "        text-align: right;\n",
              "    }\n",
              "</style>\n",
              "<table border=\"1\" class=\"dataframe\">\n",
              "  <thead>\n",
              "    <tr style=\"text-align: right;\">\n",
              "      <th></th>\n",
              "      <th>YearsExperience</th>\n",
              "      <th>Salary</th>\n",
              "    </tr>\n",
              "  </thead>\n",
              "  <tbody>\n",
              "    <tr>\n",
              "      <th>0</th>\n",
              "      <td>1.1</td>\n",
              "      <td>39343.0</td>\n",
              "    </tr>\n",
              "    <tr>\n",
              "      <th>1</th>\n",
              "      <td>1.3</td>\n",
              "      <td>46205.0</td>\n",
              "    </tr>\n",
              "    <tr>\n",
              "      <th>2</th>\n",
              "      <td>1.5</td>\n",
              "      <td>37731.0</td>\n",
              "    </tr>\n",
              "    <tr>\n",
              "      <th>3</th>\n",
              "      <td>2.0</td>\n",
              "      <td>43525.0</td>\n",
              "    </tr>\n",
              "    <tr>\n",
              "      <th>4</th>\n",
              "      <td>2.2</td>\n",
              "      <td>39891.0</td>\n",
              "    </tr>\n",
              "  </tbody>\n",
              "</table>\n",
              "</div>"
            ],
            "text/plain": [
              "   YearsExperience   Salary\n",
              "0              1.1  39343.0\n",
              "1              1.3  46205.0\n",
              "2              1.5  37731.0\n",
              "3              2.0  43525.0\n",
              "4              2.2  39891.0"
            ]
          },
          "metadata": {
            "tags": []
          },
          "execution_count": 2
        }
      ]
    },
    {
      "cell_type": "markdown",
      "metadata": {
        "id": "694AwBmFLKuo"
      },
      "source": [
        "## Linear Regression"
      ]
    },
    {
      "cell_type": "code",
      "metadata": {
        "id": "_pW8uuE2LKEP"
      },
      "source": [
        "# Import Algorithm\n",
        "from sklearn.linear_model import LinearRegression"
      ],
      "execution_count": null,
      "outputs": []
    },
    {
      "cell_type": "markdown",
      "metadata": {
        "id": "zVEQJ098ObzR"
      },
      "source": [
        "Preparing the dataset will be the same for all the model"
      ]
    },
    {
      "cell_type": "code",
      "metadata": {
        "id": "5rlk4veMObMz"
      },
      "source": [
        "# Separate the features (X) and target (y)\n",
        "# Reshape so each item is a list of features/targets\n",
        "X = dataset['YearsExperience'].values.reshape(-1, 1)\n",
        "y = dataset['Salary'].values.reshape(-1, 1)"
      ],
      "execution_count": null,
      "outputs": []
    },
    {
      "cell_type": "markdown",
      "metadata": {
        "id": "FEaqXZ4EO00N"
      },
      "source": [
        "In sklean a 1d array needs to be reshaped as shown above"
      ]
    },
    {
      "cell_type": "code",
      "metadata": {
        "id": "DHHjXob4O6hU"
      },
      "source": [
        "# Split into training, test sets (80%, 20%)\n",
        "X_train_val, X_test, y_train_val, y_test=train_test_split(X, y, test_size=0.2, random_state=0)\n",
        "\n",
        "# Split train_val sets into separate training and validation sets\n",
        "# Final split is 60% train, 20% validation, and 20% testing\n",
        "X_train, X_val, y_train, y_val = train_test_split(X_train_val, y_train_val, test_size=0.25, random_state=0)"
      ],
      "execution_count": null,
      "outputs": []
    },
    {
      "cell_type": "markdown",
      "metadata": {
        "id": "X_lsr6q1PIkF"
      },
      "source": [
        "Train the model"
      ]
    },
    {
      "cell_type": "code",
      "metadata": {
        "id": "nR9-Ok2xPKLN",
        "colab": {
          "base_uri": "https://localhost:8080/"
        },
        "outputId": "51a47d42-d778-436c-8fc0-dce3d39fd2ee"
      },
      "source": [
        "# Initialize the linear regression model\n",
        "linear_regressor = LinearRegression()\n",
        "# Train the model on the training data\n",
        "linear_regressor.fit(X_train, y_train)\n",
        "LinearRegression(copy_X=True, fit_intercept=True, n_jobs=None, normalize=False)"
      ],
      "execution_count": null,
      "outputs": [
        {
          "output_type": "execute_result",
          "data": {
            "text/plain": [
              "LinearRegression(copy_X=True, fit_intercept=True, n_jobs=None, normalize=False)"
            ]
          },
          "metadata": {
            "tags": []
          },
          "execution_count": 6
        }
      ]
    },
    {
      "cell_type": "markdown",
      "metadata": {
        "id": "Zz99ouJYgE-V"
      },
      "source": [
        "Check the performance of the model with the [score()](https://scikit-learn.org/stable/modules/generated/sklearn.linear_model.LinearRegression.html#sklearn.linear_model.LinearRegression.score) method and plotting"
      ]
    },
    {
      "cell_type": "code",
      "metadata": {
        "id": "EEHON8ipgccP",
        "colab": {
          "base_uri": "https://localhost:8080/",
          "height": 329
        },
        "outputId": "cd244bdd-be3d-4f90-c179-3a1ed742cda8"
      },
      "source": [
        "# Find Score (Max is 1)\n",
        "print(\"Training Score: {}\".format(linear_regressor.score(X_train, y_train)))\n",
        "print(\"Validation Score: {}\".format(linear_regressor.score(X_val, y_val)))\n",
        "\n",
        "# Plot points and fit line for training data\n",
        "plt.scatter(X_train, y_train, s=50, color='CornflowerBlue', edgecolor='black', lw=0.5, label='Training-set observation points')\n",
        "plt.scatter(X_val, y_val, s=50, color='MediumSeaGreen', edgecolor='black', lw=0.5, label='Training-set observation points')\n",
        "plt.plot(X_train, linear_regressor.predict(X_train), color='darkgrey', label='Fit Regression Line')\n",
        "plt.title('Salary vs Experience')\n",
        "plt.xlabel('Experience (in years)')\n",
        "plt.ylabel('Salary (in USD)')\n",
        "plt.show()"
      ],
      "execution_count": null,
      "outputs": [
        {
          "output_type": "stream",
          "text": [
            "Training Score: 0.9307377112009063\n",
            "Validation Score: 0.954982649907712\n"
          ],
          "name": "stdout"
        },
        {
          "output_type": "display_data",
          "data": {
            "image/png": "[encoded data removed]",
            "text/plain": [
              "<Figure size 432x288 with 1 Axes>"
            ]
          },
          "metadata": {
            "tags": [],
            "needs_background": "light"
          }
        }
      ]
    },
    {
      "cell_type": "markdown",
      "metadata": {
        "id": "CFuu7wQh7_cF"
      },
      "source": [
        "Test it out!"
      ]
    },
    {
      "cell_type": "code",
      "metadata": {
        "id": "Vl6wcSbP8BPm"
      },
      "source": [
        "# Use the trained model to predict values on the test set\n",
        "y_predict = linear_regressor.predict(X_test)"
      ],
      "execution_count": null,
      "outputs": []
    },
    {
      "cell_type": "code",
      "metadata": {
        "id": "6vrcoti38N2C",
        "colab": {
          "base_uri": "https://localhost:8080/",
          "height": 312
        },
        "outputId": "185b3350-5c33-4da7-f97e-48aa75222480"
      },
      "source": [
        "# Find Score (Max is 1)\n",
        "print(\"Testing Score: {}\".format(linear_regressor.score(X_test, y_test)))\n",
        "\n",
        "# Plot points and fit line for training data\n",
        "# (Same as cell from above)\n",
        "# Plot points and fit line for training data\n",
        "# Plot points and fit line for training data\n",
        "plt.scatter(X_train, y_train, s=50, color='CornflowerBlue', edgecolor='black', lw=0.5, label='Training-set observation points')\n",
        "plt.scatter(X_val, y_val, s=50, color='MediumSeaGreen', edgecolor='black', lw=0.5, label='Training-set observation points')\n",
        "plt.plot(X_train, linear_regressor.predict(X_train), color='darkgrey', label='Fit Regression Line')\n",
        "plt.title('Salary vs Experience')\n",
        "plt.xlabel('Experience (in years)')\n",
        "plt.ylabel('Salary (in USD)')\n",
        "\n",
        "# plot scatter points and line for test data\n",
        "plt.scatter(X_test, y_test, color='crimson', edgecolors='black', lw=0.5, label='Test-set observation points')\n",
        "plt.legend()\n",
        "plt.show()"
      ],
      "execution_count": null,
      "outputs": [
        {
          "output_type": "stream",
          "text": [
            "Testing Score: 0.9890056653213621\n"
          ],
          "name": "stdout"
        },
        {
          "output_type": "display_data",
          "data": {
            "image/png": "[encoded data removed]",
            "text/plain": [
              "<Figure size 432x288 with 1 Axes>"
            ]
          },
          "metadata": {
            "tags": [],
            "needs_background": "light"
          }
        }
      ]
    },
    {
      "cell_type": "markdown",
      "metadata": {
        "id": "S-OZq4te8RtG"
      },
      "source": [
        "## KNN Regression"
      ]
    },
    {
      "cell_type": "code",
      "metadata": {
        "id": "dItSX07-8RUa"
      },
      "source": [
        "# Import Algorithm\n",
        "from sklearn.neighbors import KNeighborsRegressor"
      ],
      "execution_count": null,
      "outputs": []
    },
    {
      "cell_type": "markdown",
      "metadata": {
        "id": "u1YqzV2e9Gru"
      },
      "source": [
        "Same as before"
      ]
    },
    {
      "cell_type": "code",
      "metadata": {
        "id": "TRZ7xC288uL7"
      },
      "source": [
        "# Read in the dataset\n",
        "dataset = pd.read_csv('https://raw.githubusercontent.com/mesushan/Salary-Prediciton-based-on-Years-of-Experience/master/Salary_Data.csv', encoding='latin')\n",
        "\n",
        "# Separate the features (X) and target (y)\n",
        "# Reshape so each item is a list of features/targets\n",
        "X = dataset['YearsExperience'].values.reshape(-1, 1)\n",
        "y = dataset['Salary'].values.reshape(-1, 1)\n",
        "\n",
        "# Split into training, test sets (80%, 20%)\n",
        "X_train_val, X_test, y_train_val, y_test=train_test_split(X, y, test_size=0.2, random_state=0)\n",
        "\n",
        "# Split train_val sets into separate training and validation sets\n",
        "# Final split is 60% train, 20% validation, and 20% testing\n",
        "X_train, X_val, y_train, y_val = train_test_split(X_train_val, y_train_val, test_size=0.25, random_state=0)"
      ],
      "execution_count": null,
      "outputs": []
    },
    {
      "cell_type": "markdown",
      "metadata": {
        "id": "T-vlRiJb85Qy"
      },
      "source": [
        "Your turn! [Follow this](https://scikit-learn.org/stable/modules/generated/sklearn.neighbors.KNeighborsRegressor.html)\n",
        "\n",
        "Use defaults"
      ]
    },
    {
      "cell_type": "code",
      "metadata": {
        "id": "kTxr9_5Pcn8n",
        "colab": {
          "base_uri": "https://localhost:8080/"
        },
        "outputId": "3faa656d-0143-42ce-ff74-67c8d700b949"
      },
      "source": [
        "# Initialize the knn regression model\n",
        "\n",
        "\n",
        "# Train the model on the training data\n",
        "\n"
      ],
      "execution_count": null,
      "outputs": [
        {
          "output_type": "execute_result",
          "data": {
            "text/plain": [
              "KNeighborsRegressor(algorithm='auto', leaf_size=30, metric='minkowski',\n",
              "                    metric_params=None, n_jobs=None, n_neighbors=5, p=2,\n",
              "                    weights='uniform')"
            ]
          },
          "metadata": {
            "tags": []
          },
          "execution_count": 12
        }
      ]
    },
    {
      "cell_type": "markdown",
      "metadata": {
        "id": "K1YwajnB9ljI"
      },
      "source": [
        "Check score on training and validation"
      ]
    },
    {
      "cell_type": "code",
      "metadata": {
        "id": "3ByWmaiLiKFG",
        "colab": {
          "base_uri": "https://localhost:8080/",
          "height": 258
        },
        "outputId": "0e2385d1-b50a-44f4-f1e2-81e3469930e7"
      },
      "source": [
        "# Find Score (max is 1)\n",
        "print(\"Training Score: {}\".format(knn_regressor.score(X_train, y_train)))\n",
        "print(\"Validation Score: {}\".format(knn_regressor.score(X_val, y_val)))\n",
        "\n",
        "# Create table to show differences in predicted salary\n",
        "results = pd.DataFrame()\n",
        "results['Experience'] = X_val.reshape(-1)\n",
        "results['True Salary'] = y_val.reshape(-1)\n",
        "results['Predicted Salary'] = knn_regressor.predict(X_val).reshape(-1)\n",
        "results"
      ],
      "execution_count": null,
      "outputs": [
        {
          "output_type": "stream",
          "text": [
            "Training Score: 0.9212027165771288\n",
            "Validation Score: 0.8835056943491592\n"
          ],
          "name": "stdout"
        },
        {
          "output_type": "execute_result",
          "data": {
            "text/html": [
              "<div>\n",
              "<style scoped>\n",
              "    .dataframe tbody tr th:only-of-type {\n",
              "        vertical-align: middle;\n",
              "    }\n",
              "\n",
              "    .dataframe tbody tr th {\n",
              "        vertical-align: top;\n",
              "    }\n",
              "\n",
              "    .dataframe thead th {\n",
              "        text-align: right;\n",
              "    }\n",
              "</style>\n",
              "<table border=\"1\" class=\"dataframe\">\n",
              "  <thead>\n",
              "    <tr style=\"text-align: right;\">\n",
              "      <th></th>\n",
              "      <th>Experience</th>\n",
              "      <th>True Salary</th>\n",
              "      <th>Predicted Salary</th>\n",
              "    </tr>\n",
              "  </thead>\n",
              "  <tbody>\n",
              "    <tr>\n",
              "      <th>0</th>\n",
              "      <td>10.5</td>\n",
              "      <td>121872.0</td>\n",
              "      <td>106320.8</td>\n",
              "    </tr>\n",
              "    <tr>\n",
              "      <th>1</th>\n",
              "      <td>1.3</td>\n",
              "      <td>46205.0</td>\n",
              "      <td>52930.6</td>\n",
              "    </tr>\n",
              "    <tr>\n",
              "      <th>2</th>\n",
              "      <td>4.9</td>\n",
              "      <td>67938.0</td>\n",
              "      <td>72225.0</td>\n",
              "    </tr>\n",
              "    <tr>\n",
              "      <th>3</th>\n",
              "      <td>5.9</td>\n",
              "      <td>81363.0</td>\n",
              "      <td>86613.6</td>\n",
              "    </tr>\n",
              "    <tr>\n",
              "      <th>4</th>\n",
              "      <td>1.1</td>\n",
              "      <td>39343.0</td>\n",
              "      <td>52930.6</td>\n",
              "    </tr>\n",
              "    <tr>\n",
              "      <th>5</th>\n",
              "      <td>4.0</td>\n",
              "      <td>55794.0</td>\n",
              "      <td>58829.4</td>\n",
              "    </tr>\n",
              "  </tbody>\n",
              "</table>\n",
              "</div>"
            ],
            "text/plain": [
              "   Experience  True Salary  Predicted Salary\n",
              "0        10.5     121872.0          106320.8\n",
              "1         1.3      46205.0           52930.6\n",
              "2         4.9      67938.0           72225.0\n",
              "3         5.9      81363.0           86613.6\n",
              "4         1.1      39343.0           52930.6\n",
              "5         4.0      55794.0           58829.4"
            ]
          },
          "metadata": {
            "tags": []
          },
          "execution_count": 13
        }
      ]
    },
    {
      "cell_type": "markdown",
      "metadata": {
        "id": "FStNQi8C9t9N"
      },
      "source": [
        "Training is better... what do we do?\n",
        "Tune the hyper parameters!"
      ]
    },
    {
      "cell_type": "code",
      "metadata": {
        "id": "3vyy7fVG9Z9h",
        "colab": {
          "base_uri": "https://localhost:8080/"
        },
        "outputId": "94143c7d-95a7-4163-d449-ab8465b433a2"
      },
      "source": [
        "# Initialize the knn regression model\n",
        "knn_regressor = KNeighborsRegressor(n_neighbors=2) # THIS LINE\n",
        "\n",
        "# Train the model on the training data\n",
        "knn_regressor.fit(X_train, y_train)\n",
        "\n",
        "# Find Score (max is 1)\n",
        "print(\"Training Score: {}\".format(knn_regressor.score(X_train, y_train)))\n",
        "print(\"Validation Score: {}\".format(knn_regressor.score(X_val, y_val)))"
      ],
      "execution_count": null,
      "outputs": [
        {
          "output_type": "stream",
          "text": [
            "Training Score: 0.963422254213486\n",
            "Validation Score: 0.9369108936074926\n"
          ],
          "name": "stdout"
        }
      ]
    },
    {
      "cell_type": "markdown",
      "metadata": {
        "id": "NQJ6cf8W-QhA"
      },
      "source": [
        "Check testing score. Will differ based on hyperparemeters you tune"
      ]
    },
    {
      "cell_type": "code",
      "metadata": {
        "id": "ooeojQkk9fOp",
        "colab": {
          "base_uri": "https://localhost:8080/"
        },
        "outputId": "3cbcbeb3-b04d-4ab6-808d-6d0bab16ff33"
      },
      "source": [
        "# Use the trained model to predict values on the test set\n",
        "y_predict = knn_regressor.predict(X_test)\n",
        "\n",
        "# Find Score (Max is 1)\n",
        "print(\"Testing Score: {}\".format(knn_regressor.score(X_test, y_test)))"
      ],
      "execution_count": null,
      "outputs": [
        {
          "output_type": "stream",
          "text": [
            "Testing Score: 0.9551230640169661\n"
          ],
          "name": "stdout"
        }
      ]
    },
    {
      "cell_type": "markdown",
      "metadata": {
        "id": "ibz6pB8m-hJw"
      },
      "source": [
        "# SVM Regression"
      ]
    },
    {
      "cell_type": "code",
      "metadata": {
        "id": "UljfwZQ9-mCh"
      },
      "source": [
        "# Import Algorithm\n",
        "from sklearn.svm import SVR"
      ],
      "execution_count": null,
      "outputs": []
    },
    {
      "cell_type": "markdown",
      "metadata": {
        "id": "1K1vdmOu-5P3"
      },
      "source": [
        "Same as before... wait... nope\n",
        "We have to scale! SVR does not do this automatically like the others do... please don't ask me why..."
      ]
    },
    {
      "cell_type": "code",
      "metadata": {
        "id": "36O02lR0-oi7"
      },
      "source": [
        "# Read in the dataset\n",
        "dataset = pd.read_csv('https://raw.githubusercontent.com/mesushan/Salary-Prediciton-based-on-Years-of-Experience/master/Salary_Data.csv', encoding='latin')\n",
        "\n",
        "# Separate the features (X) and target (y)\n",
        "# Reshape so each item is a list of features/targets\n",
        "X = dataset['YearsExperience'].values.reshape(-1, 1)\n",
        "y = dataset['Salary'].values.reshape(-1, 1)\n",
        "\n",
        "\n",
        "# *****   NEW   *****\n",
        "scale_X = StandardScaler()\n",
        "scale_y = StandardScaler()\n",
        "X = scale_X.fit_transform(X)\n",
        "y = scale_y.fit_transform(y).reshape(-1)\n",
        "# ***** ^ NEW ^ *****\n",
        "\n",
        "# Split into training, test sets (80%, 20%)\n",
        "X_train_val, X_test, y_train_val, y_test=train_test_split(X, y, test_size=0.2, random_state=0)\n",
        "\n",
        "# Split train_val sets into separate training and validation sets\n",
        "# Final split is 60% train, 20% validation, and 20% testing\n",
        "X_train, X_val, y_train, y_val = train_test_split(X_train_val, y_train_val, test_size=0.25, random_state=0)"
      ],
      "execution_count": null,
      "outputs": []
    },
    {
      "cell_type": "markdown",
      "metadata": {
        "id": "wmJnIB3P_IcJ"
      },
      "source": [
        "Train and get validation score"
      ]
    },
    {
      "cell_type": "code",
      "metadata": {
        "id": "1hzWH1Lo-rIl",
        "colab": {
          "base_uri": "https://localhost:8080/",
          "height": 329
        },
        "outputId": "b9c1f833-54d8-41f5-dcf8-1c5f2e2554b7"
      },
      "source": [
        "# Initialize the SVR\n",
        "svr_regressor = SVR(kernel = 'linear')\n",
        "\n",
        "# Train the model\n",
        "svr_regressor.fit(X_train, y_train)\n",
        "\n",
        "# Find Score (max is 1)\n",
        "print(\"Training Score: {}\".format(svr_regressor.score(X_train, y_train)))\n",
        "print(\"Validation Score: {}\".format(svr_regressor.score(X_val, y_val)))\n",
        "\n",
        "# Plot\n",
        "plt.scatter(X_train, y_train, color='cornflowerblue', label='Actual observation points')\n",
        "plt.scatter(X_val, y_val, color='lightseagreen', label='Validation observation points')\n",
        "plt.plot(X, svr_regressor.predict(X), label='SVR regressor', color='black')\n",
        "plt.title('Truth or bluff (SVR Regression)')\n",
        "plt.xlabel('Years Experience')\n",
        "plt.ylabel('Salary')\n",
        "plt.legend()\n",
        "plt.show()"
      ],
      "execution_count": null,
      "outputs": [
        {
          "output_type": "stream",
          "text": [
            "Training Score: 0.927041447524215\n",
            "Validation Score: 0.9688613633505705\n"
          ],
          "name": "stdout"
        },
        {
          "output_type": "display_data",
          "data": {
            "image/png": "[encoded data removed]",
            "text/plain": [
              "<Figure size 432x288 with 1 Axes>"
            ]
          },
          "metadata": {
            "tags": [],
            "needs_background": "light"
          }
        }
      ]
    },
    {
      "cell_type": "markdown",
      "metadata": {
        "id": "6nAM_By2_KNE"
      },
      "source": [
        "Your turn! [follow this](https://scikit-learn.org/stable/modules/generated/sklearn.svm.SVR.html)"
      ]
    },
    {
      "cell_type": "markdown",
      "metadata": {
        "id": "dfkMYcqvAiVH"
      },
      "source": [
        "You can go back and change some hyper parameters as well... try a different kernel!"
      ]
    },
    {
      "cell_type": "code",
      "metadata": {
        "id": "8RDqPkdA-upA"
      },
      "source": [
        "# Use the model to get predictions for the test set\n",
        "\n",
        "# Use `score()` to find the score the model gets on the test data\n",
        "\n",
        "# BONUS: Plot the test set observations in comparison with the function the model learned to use. "
      ],
      "execution_count": null,
      "outputs": []
    },
    {
      "cell_type": "markdown",
      "metadata": {
        "id": "Y33RmqvVAo5u"
      },
      "source": [
        "Why do we need to scale?"
      ]
    },
    {
      "cell_type": "code",
      "metadata": {
        "id": "HkyQccdX-1hg"
      },
      "source": [
        "# Step 1\n",
        "scaled_exp = scale_X.transform(np.array([[9.8]]))\n",
        "print(scaled_exp)\n",
        "\n",
        "# Step 2\n",
        "scaled_prediction = svr_regressor.predict(scaled_exp)\n",
        "print(scaled_prediction)\n",
        "\n",
        "# Step 3\n",
        "predicted_sal = scale_y.inverse_transform(scaled_prediction)\n",
        "print(predicted_sal)"
      ],
      "execution_count": null,
      "outputs": []
    }
  ]
}